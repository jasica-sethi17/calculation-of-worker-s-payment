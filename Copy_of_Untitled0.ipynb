{
  "nbformat": 4,
  "nbformat_minor": 0,
  "metadata": {
    "colab": {
      "provenance": [],
      "authorship_tag": "ABX9TyPeLK5Qmh79jjSJSyvsnHkg",
      "include_colab_link": true
    },
    "kernelspec": {
      "name": "python3",
      "display_name": "Python 3"
    },
    "language_info": {
      "name": "python"
    }
  },
  "cells": [
    {
      "cell_type": "markdown",
      "metadata": {
        "id": "view-in-github",
        "colab_type": "text"
      },
      "source": [
        "<a href=\"https://colab.research.google.com/github/jasica-sethi17/calculation-of-worker-s-payment/blob/main/Copy_of_Untitled0.ipynb\" target=\"_parent\"><img src=\"https://colab.research.google.com/assets/colab-badge.svg\" alt=\"Open In Colab\"/></a>"
      ]
    },
    {
      "cell_type": "code",
      "execution_count": null,
      "metadata": {
        "colab": {
          "base_uri": "https://localhost:8080/"
        },
        "id": "7HBuldXtNhbl",
        "outputId": "af54b022-9578-43d1-89e5-07d3b1d35a0b"
      },
      "outputs": [
        {
          "output_type": "stream",
          "name": "stdout",
          "text": [
            "Please Enter the First Number  = 3\n",
            "Please Enter the Second number = 4\n",
            "Please Enter the Third number  = 5\n",
            "Yes these are pythagorean triplets\n"
          ]
        }
      ],
      "source": [
        "#SET1 \n",
        "#JASICA KAUR SETHI\n",
        "#Q1:TO CHECK WHETHER THE GIVEN NUMBERS ARE TRIPLET OR NOT\n",
        "a = int(input(\"Please Enter the First Number  = \"))\n",
        "b = int(input(\"Please Enter the Second number = \"))\n",
        "c = int(input(\"Please Enter the Third number  = \"))\n",
        "\n",
        "if a*a+b*b==c*c:\n",
        "  print(\"Yes these are pythagorean triplets\")\n",
        "else:\n",
        "  print(\"No these are not pythagorean triplets\") \n"
      ]
    },
    {
      "cell_type": "code",
      "source": [
        "#Q5:TO COUNT THE NO. OF EACH LETTER IN A STRING\n",
        "name=input(\"Enter string\")\n",
        "name=name.lower()\n",
        "for i in range(97,123):\n",
        "  c=0\n",
        "  for j in range(len(name)):\n",
        "    if(name[j]==chr(i)):\n",
        "     c=c+1\n",
        "  print(chr(i),\"=\",c)    \n"
      ],
      "metadata": {
        "colab": {
          "base_uri": "https://localhost:8080/"
        },
        "id": "ZVOb8E9ZxseH",
        "outputId": "4607a963-51d0-45aa-d82e-139728971cb6"
      },
      "execution_count": null,
      "outputs": [
        {
          "output_type": "stream",
          "name": "stdout",
          "text": [
            "Enter stringMy Name is Jasica\n",
            "a = 3\n",
            "b = 0\n",
            "c = 1\n",
            "d = 0\n",
            "e = 1\n",
            "f = 0\n",
            "g = 0\n",
            "h = 0\n",
            "i = 2\n",
            "j = 1\n",
            "k = 0\n",
            "l = 0\n",
            "m = 2\n",
            "n = 1\n",
            "o = 0\n",
            "p = 0\n",
            "q = 0\n",
            "r = 0\n",
            "s = 2\n",
            "t = 0\n",
            "u = 0\n",
            "v = 0\n",
            "w = 0\n",
            "x = 0\n",
            "y = 1\n",
            "z = 0\n"
          ]
        }
      ]
    },
    {
      "cell_type": "code",
      "source": [
        "\n",
        "#Q2:TO FIND THE MAX, MIN AND AVERAGE FROM GIVEN NO. OF SALARIES\n",
        "names = []\n",
        "salaries = []\n",
        "max = 0\n",
        "min = 0\n",
        "index_of_max = -1\n",
        "index_of_min=0\n",
        "s = 0\n",
        "\n",
        "for i in range(0,5):\n",
        "  name = input(\"Enter name: \")\n",
        "  names.append(name)\n",
        "  salary = int(input(\"Salary: \"))\n",
        "  salaries.append(salary)\n",
        "\n",
        "for i in range(5):\n",
        "  s += salaries[i]\n",
        "\n",
        "  if salaries[i] > max:\n",
        "    max = salaries[i]\n",
        "    index_of_max = i\n",
        "\n",
        "  min = salaries[0]\n",
        "  if salaries[i] < min:\n",
        "    min = salaries[i]\n",
        "    index_of_min = i\n",
        "\n",
        "avg = s/5\n",
        "  \n",
        "\n",
        "print(names[index_of_max] + \"gets the max salary of \" + str(max))\n",
        "print(names[index_of_min] + \"gets the max salary of \" + str(min))\n",
        "print(\"Average salary = \", avg)\n",
        " "
      ],
      "metadata": {
        "id": "KxB4xpXfQt9j",
        "colab": {
          "base_uri": "https://localhost:8080/"
        },
        "outputId": "58494d52-b03e-4fe8-d5a1-47de5868f63c"
      },
      "execution_count": null,
      "outputs": [
        {
          "output_type": "stream",
          "name": "stdout",
          "text": [
            "Enter name: ok1\n",
            "Salary: 1111\n",
            "Enter name: ok2\n",
            "Salary: 2222\n",
            "Enter name: ok3\n",
            "Salary: 3333\n",
            "Enter name: ok4\n",
            "Salary: 4444\n",
            "Enter name: ok5\n",
            "Salary: 5555\n",
            "ok5gets the max salary of 5555\n",
            "ok1gets the max salary of 1111\n",
            "Average salary =  3333.0\n"
          ]
        }
      ]
    },
    {
      "cell_type": "code",
      "source": [
        "#Q3:TO FIND POWER OF A NO. TILL 10\n",
        "x=int(input(\"enter no.\"))\n",
        "for i in range(1,11):\n",
        "  print(x,\"^\",i,'\\t',x**i)\n"
      ],
      "metadata": {
        "colab": {
          "base_uri": "https://localhost:8080/"
        },
        "id": "QRUKIUxntlEB",
        "outputId": "a4367dee-3e77-4579-f9e4-0407f0726173"
      },
      "execution_count": null,
      "outputs": [
        {
          "output_type": "stream",
          "name": "stdout",
          "text": [
            "enter no.2\n",
            "2 ^ 1 \t 2\n",
            "2 ^ 2 \t 4\n",
            "2 ^ 3 \t 8\n",
            "2 ^ 4 \t 16\n",
            "2 ^ 5 \t 32\n",
            "2 ^ 6 \t 64\n",
            "2 ^ 7 \t 128\n",
            "2 ^ 8 \t 256\n",
            "2 ^ 9 \t 512\n",
            "2 ^ 10 \t 1024\n"
          ]
        }
      ]
    },
    {
      "cell_type": "code",
      "source": [
        "#Q4:TO FIND THE NO. OF VOWELS AND CONSONANTS IN A STRING\n",
        "ok=input(\"enter string\")\n",
        "s=ok.lower()\n",
        "v=0\n",
        "c=0\n",
        "for i in range(len(ok)):\n",
        "  if s[i]=='a'or s[i]=='e'or s[i]=='i'or s[i]=='o'or s[i]=='u':\n",
        "   v=v+1\n",
        "  else:\n",
        "    c=c+1\n",
        "print(\"count of vowels\",v)\n",
        "print(\"count of consonants\",c)\n",
        "print(v*100/c)\n",
        "\n"
      ],
      "metadata": {
        "colab": {
          "base_uri": "https://localhost:8080/"
        },
        "id": "tCbiDAfLvm1I",
        "outputId": "50727f46-752c-4eac-fb52-42ad96cb9284"
      },
      "execution_count": null,
      "outputs": [
        {
          "output_type": "stream",
          "name": "stdout",
          "text": [
            "enter stringalphabet\n",
            "count of vowels 3\n",
            "count of consonants 5\n",
            "60.0\n"
          ]
        }
      ]
    },
    {
      "cell_type": "code",
      "source": [],
      "metadata": {
        "id": "LNS_Mwj1yLKY"
      },
      "execution_count": null,
      "outputs": []
    }
  ]
}